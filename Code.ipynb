{
 "cells": [
  {
   "cell_type": "code",
   "execution_count": 1,
   "id": "b0898e72-632d-4c35-8864-3bbfcb5679f9",
   "metadata": {
    "tags": []
   },
   "outputs": [],
   "source": [
    "import itertools\n",
    "import functools\n",
    "import operator\n",
    "import re\n",
    "import xarray\n",
    "import numpy as np\n",
    "from dataclasses import dataclass\n",
    "\n",
    "import typing"
   ]
  },
  {
   "cell_type": "markdown",
   "id": "0e287547-e92b-4522-a648-12699d3fcc9d",
   "metadata": {
    "jp-MarkdownHeadingCollapsed": true,
    "tags": []
   },
   "source": [
    "# Day 1"
   ]
  },
  {
   "cell_type": "markdown",
   "id": "4269d223-0678-4584-a653-e3590b942475",
   "metadata": {},
   "source": [
    "### Part 1"
   ]
  },
  {
   "cell_type": "code",
   "execution_count": 61,
   "id": "25516641-1584-4621-b1b9-2520a47417d2",
   "metadata": {
    "tags": []
   },
   "outputs": [],
   "source": [
    "with open('Advent_2020_Day_1.txt') as f:\n",
    "    nums = f.read().splitlines()\n",
    "nums = [int(x) for x in nums]"
   ]
  },
  {
   "cell_type": "code",
   "execution_count": 62,
   "id": "84a596f3-01b1-419b-8a6a-a0cc212c9e64",
   "metadata": {
    "tags": []
   },
   "outputs": [],
   "source": [
    "@dataclass\n",
    "class Coord:\n",
    "    a: int\n",
    "    b: int"
   ]
  },
  {
   "cell_type": "code",
   "execution_count": 63,
   "id": "8e58d399-775a-48b9-9453-c63656756b88",
   "metadata": {
    "tags": []
   },
   "outputs": [
    {
     "name": "stdout",
     "output_type": "stream",
     "text": [
      "34 159\n",
      "Sum: 2020\n",
      "Product: 1018944\n"
     ]
    }
   ],
   "source": [
    "pt = Coord(0,1)\n",
    "\n",
    "while pt.b <= len(nums)-1 and pt.a <= len(nums)-1:\n",
    "    f,s = int(nums[pt.a]), int(nums[pt.b])\n",
    "    if f+s == 2020:\n",
    "        print(pt.a,pt.b)\n",
    "        print(\"Sum:\",f+s)\n",
    "        print(\"Product:\", f*s)\n",
    "        break\n",
    "        \n",
    "    #Check if a and b are the same, else add 1\n",
    "    if pt.a == pt.b:\n",
    "        pt.b += 1\n",
    "        # print('1 added to b')\n",
    "        continue\n",
    "\n",
    "    #Check if b is at the end, else add 1 to a and reset b\n",
    "    if pt.b == len(nums) -1:\n",
    "        pt.a+=1\n",
    "        pt.b = pt.a + 1\n",
    "        # print('1 added to a')\n",
    "        # print('b reset')\n",
    "        continue\n",
    "    #Else, add one to b\n",
    "    pt.b += 1\n",
    "    # print('1 added to b')\n",
    "    continue"
   ]
  },
  {
   "cell_type": "markdown",
   "id": "efce42e1-d960-40cc-b02f-a9e1dd98f93e",
   "metadata": {},
   "source": [
    "### Part 2: Itertools for conv"
   ]
  },
  {
   "cell_type": "code",
   "execution_count": 69,
   "id": "bf9326b7-ee78-48a3-96aa-8ebdc5cfa86c",
   "metadata": {
    "tags": []
   },
   "outputs": [],
   "source": [
    "comb = list(itertools.combinations(nums,3))\n",
    "res = [i for i in comb if sum(i) == 2020][0]"
   ]
  },
  {
   "cell_type": "code",
   "execution_count": 74,
   "id": "ca7ae8c4-50b7-4f37-8840-dafdbcb1e9c6",
   "metadata": {
    "tags": []
   },
   "outputs": [
    {
     "data": {
      "text/plain": [
       "8446464"
      ]
     },
     "execution_count": 74,
     "metadata": {},
     "output_type": "execute_result"
    }
   ],
   "source": [
    "functools.reduce(operator.mul,res)"
   ]
  },
  {
   "cell_type": "markdown",
   "id": "dc43cd60-6482-44f2-b201-8ddb470148c8",
   "metadata": {
    "jp-MarkdownHeadingCollapsed": true,
    "tags": []
   },
   "source": [
    "# Day 2"
   ]
  },
  {
   "cell_type": "markdown",
   "id": "342cfca1-ab87-472c-8c92-1e3556bcd574",
   "metadata": {},
   "source": [
    "### Part 1"
   ]
  },
  {
   "cell_type": "code",
   "execution_count": 76,
   "id": "18d781e9-2198-4577-b8e1-1903e369a6f7",
   "metadata": {
    "tags": []
   },
   "outputs": [],
   "source": [
    "with open(\"./Advent_2020_Day_2.txt\") as f:\n",
    "    data = f.read().splitlines()"
   ]
  },
  {
   "cell_type": "code",
   "execution_count": 135,
   "id": "e8db6991-2db9-43a2-95ba-038093cd4902",
   "metadata": {
    "tags": []
   },
   "outputs": [],
   "source": [
    "class instruct:\n",
    "    def __init__(self,instruction: str):\n",
    "        \n",
    "        pattern = \"(\\d+)-(\\d+) (\\w): (\\w+$)\"\n",
    "        m = re.match(pattern,instruction)\n",
    "        \n",
    "        self.min = int(m.group(1))\n",
    "        self.max = int(m.group(2))\n",
    "        self.char = m.group(3)\n",
    "        self.pw = m.group(4)\n",
    "        \n",
    "    def validate_pw(self):\n",
    "        count = self.pw.count(self.char)\n",
    "        return (count>=self.min and count<=self.max)\n",
    "    \n",
    "    def validate_pw_new(self):\n",
    "        pair = str(self.pw[self.min-1]) + str(self.pw[self.max-1])\n",
    "        return pair.count(self.char) == 1"
   ]
  },
  {
   "cell_type": "code",
   "execution_count": 133,
   "id": "da0dbce0-a93a-4a7e-987b-29ae0ab908c3",
   "metadata": {
    "tags": []
   },
   "outputs": [
    {
     "data": {
      "text/plain": [
       "524"
      ]
     },
     "execution_count": 133,
     "metadata": {},
     "output_type": "execute_result"
    }
   ],
   "source": [
    "valid = sum([instruct(i).validate_pw() for i in data])\n",
    "valid"
   ]
  },
  {
   "cell_type": "markdown",
   "id": "dd6fe5f9-c0a1-44ff-90ed-6cb77661535c",
   "metadata": {},
   "source": [
    "### Part 2"
   ]
  },
  {
   "cell_type": "code",
   "execution_count": 137,
   "id": "208b31d4-9d92-49b1-9ac7-cc43d8d13bf8",
   "metadata": {
    "tags": []
   },
   "outputs": [
    {
     "data": {
      "text/plain": [
       "485"
      ]
     },
     "execution_count": 137,
     "metadata": {},
     "output_type": "execute_result"
    }
   ],
   "source": [
    "valid = sum([instruct(i).validate_pw_new() for i in data])\n",
    "valid"
   ]
  },
  {
   "cell_type": "markdown",
   "id": "d93b9b18-4b1a-473f-933a-da88b1f64336",
   "metadata": {
    "jp-MarkdownHeadingCollapsed": true,
    "tags": []
   },
   "source": [
    "# Day 3"
   ]
  },
  {
   "cell_type": "markdown",
   "id": "dacd4346-7d6f-4686-96b1-00d68eafc81a",
   "metadata": {
    "jp-MarkdownHeadingCollapsed": true,
    "tags": []
   },
   "source": [
    "### Part 1"
   ]
  },
  {
   "cell_type": "code",
   "execution_count": 98,
   "id": "397f9b6e-304f-41b8-a173-82e75b3593f9",
   "metadata": {
    "tags": []
   },
   "outputs": [],
   "source": [
    "with open(\"./Advent_2020_Day_3.txt\") as f:\n",
    "    data = f.read().splitlines()"
   ]
  },
  {
   "cell_type": "code",
   "execution_count": 105,
   "id": "37671de5-2b01-480a-b83a-9b3e8b0f26d9",
   "metadata": {
    "tags": []
   },
   "outputs": [],
   "source": [
    "#Parse map into array with coords\n",
    "dmap = list(map(list,data))\n",
    "dmap = xarray.DataArray(dmap, dims = [\"row\",\"col\"])"
   ]
  },
  {
   "cell_type": "code",
   "execution_count": 179,
   "id": "a2187cee-50b6-4f1d-9262-b9d24b6e3330",
   "metadata": {},
   "outputs": [],
   "source": [
    "class Explorer:\n",
    "    def __init__(self,row: int,col: int, dmap: xarray.DataArray):\n",
    "        self.row = row\n",
    "        self.col = col\n",
    "        self.dmap = dmap\n",
    "        self.treecount = 0\n",
    "        \n",
    "    def move_single(self,direction: str, distance: int):\n",
    "        if direction == \"r\":\n",
    "            self.col += 1\n",
    "        elif direction == \"l\":\n",
    "            self.col -= 1\n",
    "        elif direction == \"u\":\n",
    "            self.row += -1\n",
    "        elif direction == \"d\":\n",
    "            self.row += 1\n",
    "        else:\n",
    "            raise Exception(\"Direction unknown\")\n",
    "            \n",
    "    def validate_position_in_map(self):\n",
    "        \"\"\"Checks if current position is still in map\n",
    "        \"\"\"\n",
    "        rowcheck = self.row in dmap.get_index(\"row\")\n",
    "        colcheck = self.col in dmap.get_index(\"col\")\n",
    "        \n",
    "        if rowcheck and colcheck:\n",
    "            return True\n",
    "        else:\n",
    "            return False\n",
    "    \n",
    "    def fix_position(self):\n",
    "        \"\"\"Fixes position relative to map, since the map can be stacked right-ward.\n",
    "        \"\"\"\n",
    "        if self.col >= dmap.get_index(\"col\").max():\n",
    "            self.col -= (dmap.get_index(\"col\").max() + 1)\n",
    "        elif self.row not in dmap.get_index(\"row\"):\n",
    "            pass\n",
    "            # raise Exception(\"Can't be fixed: dropped off row axis\")\n",
    "            \n",
    "        \n",
    "    def move_multiple(self,pattern):\n",
    "        \"\"\"Moves according to specified pattern, and records if tree is at the end\n",
    "        \"\"\"\n",
    "        \n",
    "        #Check if still in map, and fix if needed\n",
    "        if self.validate_position_in_map() == False:\n",
    "            self.fix_position()       \n",
    "            \n",
    "        for i in pattern:\n",
    "            #Move           \n",
    "            self.move_single(i,1)\n",
    "        \n",
    "        #Check again if still in map, and fix if needed\n",
    "        if self.validate_position_in_map() == False:\n",
    "            self.fix_position()  \n",
    "            \n",
    "        #Look for tree\n",
    "        self.record_tree()\n",
    "        \n",
    "    def record_tree(self):\n",
    "        if self.validate_position_in_map() == True:\n",
    "            if dmap[self.row,self.col] == \"#\":\n",
    "                self.treecount += 1"
   ]
  },
  {
   "cell_type": "code",
   "execution_count": 180,
   "id": "0a0b7a91-3f01-4f31-91d8-87c3ee5a5b4f",
   "metadata": {},
   "outputs": [
    {
     "data": {
      "text/plain": [
       "234"
      ]
     },
     "execution_count": 180,
     "metadata": {},
     "output_type": "execute_result"
    }
   ],
   "source": [
    "dude = Explorer(0,0,dmap)\n",
    "\n",
    "while dude.row <= dmap.get_index(\"row\").max():\n",
    "    dude.move_multiple(\"rrrd\")\n",
    "dude.treecount"
   ]
  },
  {
   "cell_type": "markdown",
   "id": "3148f597-80d6-4f9e-b712-1921178e390b",
   "metadata": {},
   "source": [
    "### Part 2"
   ]
  },
  {
   "cell_type": "code",
   "execution_count": 181,
   "id": "75306046-cd3d-4205-89e0-7eaed6f7c894",
   "metadata": {},
   "outputs": [],
   "source": [
    "digs = []\n",
    "for pattern in [\"rd\",\"rrrd\",\"rrrrrd\",\"rrrrrrrd\",\"rdd\"]:\n",
    "    dude = Explorer(0,0,dmap)\n",
    "    while dude.row <= dmap.get_index(\"row\").max():\n",
    "        dude.move_multiple(pattern)\n",
    "    digs.append(dude.treecount)"
   ]
  },
  {
   "cell_type": "code",
   "execution_count": 183,
   "id": "40eef625-66fd-4632-8810-ebb4b37ab3a5",
   "metadata": {},
   "outputs": [
    {
     "data": {
      "text/plain": [
       "5813773056"
      ]
     },
     "execution_count": 183,
     "metadata": {},
     "output_type": "execute_result"
    }
   ],
   "source": [
    "functools.reduce(operator.mul, digs)"
   ]
  },
  {
   "cell_type": "markdown",
   "id": "e51dff7c-d9e9-417a-b860-2193b5ff2c2c",
   "metadata": {},
   "source": [
    "# Day 4"
   ]
  },
  {
   "cell_type": "markdown",
   "id": "63cb911e-f2a3-492d-a429-62ba073991aa",
   "metadata": {
    "jp-MarkdownHeadingCollapsed": true,
    "tags": []
   },
   "source": [
    "### Part 1"
   ]
  },
  {
   "cell_type": "code",
   "execution_count": 8,
   "id": "a71a0cd2-7b7e-4305-a72c-c39e57b5bc78",
   "metadata": {
    "tags": []
   },
   "outputs": [],
   "source": [
    "with open(\"./Advent_2020_Day_4.txt\") as f:\n",
    "    data = f.read().splitlines()"
   ]
  },
  {
   "cell_type": "code",
   "execution_count": 151,
   "id": "007b76f8-8852-40da-ba01-73300b39d65d",
   "metadata": {
    "tags": []
   },
   "outputs": [],
   "source": [
    "#Parse data\n",
    "full_data = []\n",
    "tracker = []\n",
    "for e in data:\n",
    "    if e == \"\":\n",
    "        full_data.append(tracker)\n",
    "        tracker = []\n",
    "        pass\n",
    "    else:\n",
    "        tracker.append(e)\n",
    "\n",
    "#Add last entry\n",
    "full_data.append(tracker)"
   ]
  },
  {
   "cell_type": "code",
   "execution_count": 188,
   "id": "e56f437d-41fe-4b9b-a304-c3465ea66a2a",
   "metadata": {},
   "outputs": [],
   "source": [
    "class Validator():\n",
    "    \"\"\"Validator to check if values in passport fields are valid\n",
    "    \"\"\"\n",
    "    def __init__(self):\n",
    "        pass\n",
    "    def validate_key(self,field_key: str, val: str):\n",
    "        if field_key == 'byr':\n",
    "            return int(val) <= 2002 and int(val) >= 1920\n",
    "        elif field_key == 'iyr':\n",
    "            return int(val) <= 2020 and int(val) >= 2010\n",
    "        elif field_key == 'eyr': \n",
    "            return int(val) <= 2030 and int(val) >= 2020\n",
    "        elif field_key == 'hgt':\n",
    "            try:\n",
    "                num = int(val[:-2])\n",
    "            except:\n",
    "                pass\n",
    "            if val[-2:] == \"cm\":\n",
    "                return int(num) <= 193 and int(num) >= 150\n",
    "            elif val[-2:] == \"in\":\n",
    "                return int(num) <= 76 and int(num) >= 59\n",
    "            else:\n",
    "                return False\n",
    "        elif field_key == 'hcl':\n",
    "            pattern = r\"^#([a-f]|[0-9]){6}$\"\n",
    "            return bool(re.match(pattern,val))\n",
    "        elif field_key == 'ecl':\n",
    "            return len(val) == 3 and val in set(['amb','blu','brn','gry','grn','hzl','oth'])\n",
    "        elif field_key == 'pid':\n",
    "            pattern = r\"^\\d{9}$\"\n",
    "            return bool(re.match(pattern,val))\n",
    "        elif field_key == 'cid':\n",
    "            return True\n",
    "        else:\n",
    "            raise Exception(\"Unknown passport field\")\n",
    "    "
   ]
  },
  {
   "cell_type": "code",
   "execution_count": 153,
   "id": "8699a192-353d-4fd9-ae79-61b7cb97803f",
   "metadata": {},
   "outputs": [],
   "source": [
    "class Constants(typing.NamedTuple):\n",
    "    \"\"\"Namedtuple to contain constants used\n",
    "    \"\"\"\n",
    "    REQUIRED_FIELDS = (\"byr\",\"iyr\",\"eyr\",\"hgt\",\"hcl\",\"ecl\",\"pid\")"
   ]
  },
  {
   "cell_type": "code",
   "execution_count": 165,
   "id": "9e0d9715-d8be-468d-b0bd-4c2011f60812",
   "metadata": {},
   "outputs": [],
   "source": [
    "class PassportChecker():\n",
    "        \n",
    "    def __init__(self,passports: list, validator: Validator):\n",
    "        self.passports = passports\n",
    "        self.CONSTANTS = Constants()\n",
    "        self.Validator = Validator\n",
    "    def split_lists(self):\n",
    "        \"\"\"Flattens each list into individual dictionaries of \"key:value\". \n",
    "        \"\"\"\n",
    "        \n",
    "        #Flatten nested lists in the passports\n",
    "        flattened = []\n",
    "        for i_list in full_data:\n",
    "            tracker = []\n",
    "            for elem in i_list:\n",
    "                tracker+=(elem.split(\" \"))\n",
    "            flattened.append(tracker)\n",
    "        \n",
    "        dicts = []\n",
    "        \n",
    "        #Convert from individual strings of \"key:value\" to a dict containing all kv pairs\n",
    "        for kvpair_list in flattened:\n",
    "            container = {}\n",
    "            for kvpair_str in kvpair_list:\n",
    "                k,v = kvpair_str.split(\":\")\n",
    "                container[k] = v\n",
    "            dicts.append(container)\n",
    "        \n",
    "        self.passports = dicts\n",
    "        \n",
    "        return flattened\n",
    "    def validate_passport(self, passport: dict):\n",
    "        \n",
    "        return set(self.CONSTANTS.REQUIRED_FIELDS) <= passport.keys()\n",
    "\n",
    "    def validate_all_passports(self):\n",
    "        \"\"\" Checks if fields are present and adds a valid_passports attribute\n",
    "        \"\"\"\n",
    "        self.valid_passports = sum([self.validate_passport(passport) for passport in self.passports])\n",
    "    \n",
    "    def validate_passport_part2(self, passport: dict):\n",
    "        checks = []\n",
    "        for k,v in passport.items():\n",
    "            val = v\n",
    "            checks.append(Validator.validate_key(self,k,v))\n",
    "        return all(checks) and self.validate_passport(passport)\n",
    "    \n",
    "    def validate_all_passports_part2(self):\n",
    "        \"\"\" Checks if fields are present AND validates the values in each field. \n",
    "        Adds a valid_passports_part2 attribute\n",
    "        \"\"\"\n",
    "        self.valid_passports_part2 = sum([self.validate_passport_part2(passport) for passport in self.passports])"
   ]
  },
  {
   "cell_type": "code",
   "execution_count": 166,
   "id": "fe943d9a-1879-4986-8aff-ffa0a4636d2d",
   "metadata": {},
   "outputs": [
    {
     "data": {
      "text/plain": [
       "256"
      ]
     },
     "execution_count": 166,
     "metadata": {},
     "output_type": "execute_result"
    }
   ],
   "source": [
    "a = PassportChecker(full_data, Validator())\n",
    "a.split_lists()\n",
    "a.validate_all_passports()\n",
    "a.valid_passports"
   ]
  },
  {
   "cell_type": "markdown",
   "id": "63ea995d-fe3e-4f84-8178-bce2faba3be8",
   "metadata": {
    "jp-MarkdownHeadingCollapsed": true,
    "tags": []
   },
   "source": [
    "### Part 2"
   ]
  },
  {
   "cell_type": "code",
   "execution_count": 191,
   "id": "01059660-af43-4bd5-92c1-ebeaf750ee9a",
   "metadata": {},
   "outputs": [
    {
     "data": {
      "text/plain": [
       "198"
      ]
     },
     "execution_count": 191,
     "metadata": {},
     "output_type": "execute_result"
    }
   ],
   "source": [
    "a.validate_all_passports_part2()\n",
    "a.valid_passports_part2"
   ]
  },
  {
   "cell_type": "markdown",
   "id": "cfd71c79-1a20-410d-b979-4abe59a8f409",
   "metadata": {},
   "source": [
    "# Day 5"
   ]
  }
 ],
 "metadata": {
  "kernelspec": {
   "display_name": "Python 3 (ipykernel)",
   "language": "python",
   "name": "python3"
  },
  "language_info": {
   "codemirror_mode": {
    "name": "ipython",
    "version": 3
   },
   "file_extension": ".py",
   "mimetype": "text/x-python",
   "name": "python",
   "nbconvert_exporter": "python",
   "pygments_lexer": "ipython3",
   "version": "3.10.9"
  }
 },
 "nbformat": 4,
 "nbformat_minor": 5
}
