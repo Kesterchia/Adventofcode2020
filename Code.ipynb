{
 "cells": [
  {
   "cell_type": "code",
   "execution_count": 116,
   "id": "b0898e72-632d-4c35-8864-3bbfcb5679f9",
   "metadata": {
    "tags": []
   },
   "outputs": [
    {
     "ename": "ModuleNotFoundError",
     "evalue": "No module named 'numpy'",
     "output_type": "error",
     "traceback": [
      "\u001b[0;31m---------------------------------------------------------------------------\u001b[0m",
      "\u001b[0;31mModuleNotFoundError\u001b[0m                       Traceback (most recent call last)",
      "Cell \u001b[0;32mIn[116], line 5\u001b[0m\n\u001b[1;32m      3\u001b[0m \u001b[38;5;28;01mimport\u001b[39;00m \u001b[38;5;21;01moperator\u001b[39;00m\n\u001b[1;32m      4\u001b[0m \u001b[38;5;28;01mimport\u001b[39;00m \u001b[38;5;21;01mre\u001b[39;00m\n\u001b[0;32m----> 5\u001b[0m \u001b[38;5;28;01mimport\u001b[39;00m \u001b[38;5;21;01mnumpy\u001b[39;00m \u001b[38;5;28;01mas\u001b[39;00m \u001b[38;5;21;01mnp\u001b[39;00m\n\u001b[1;32m      6\u001b[0m \u001b[38;5;28;01mfrom\u001b[39;00m \u001b[38;5;21;01mdataclasses\u001b[39;00m \u001b[38;5;28;01mimport\u001b[39;00m dataclass\n",
      "\u001b[0;31mModuleNotFoundError\u001b[0m: No module named 'numpy'"
     ]
    }
   ],
   "source": [
    "import itertools\n",
    "import functools\n",
    "import operator\n",
    "import re\n",
    "import numpy as np\n",
    "from dataclasses import dataclass"
   ]
  },
  {
   "cell_type": "markdown",
   "id": "0e287547-e92b-4522-a648-12699d3fcc9d",
   "metadata": {},
   "source": [
    "# Day 1"
   ]
  },
  {
   "cell_type": "markdown",
   "id": "4269d223-0678-4584-a653-e3590b942475",
   "metadata": {},
   "source": [
    "### Part 1"
   ]
  },
  {
   "cell_type": "code",
   "execution_count": 61,
   "id": "25516641-1584-4621-b1b9-2520a47417d2",
   "metadata": {
    "tags": []
   },
   "outputs": [],
   "source": [
    "with open('Advent_2020_Day_1.txt') as f:\n",
    "    nums = f.read().splitlines()\n",
    "nums = [int(x) for x in nums]"
   ]
  },
  {
   "cell_type": "code",
   "execution_count": 62,
   "id": "84a596f3-01b1-419b-8a6a-a0cc212c9e64",
   "metadata": {
    "tags": []
   },
   "outputs": [],
   "source": [
    "@dataclass\n",
    "class Coord:\n",
    "    a: int\n",
    "    b: int"
   ]
  },
  {
   "cell_type": "code",
   "execution_count": 63,
   "id": "8e58d399-775a-48b9-9453-c63656756b88",
   "metadata": {
    "tags": []
   },
   "outputs": [
    {
     "name": "stdout",
     "output_type": "stream",
     "text": [
      "34 159\n",
      "Sum: 2020\n",
      "Product: 1018944\n"
     ]
    }
   ],
   "source": [
    "pt = Coord(0,1)\n",
    "\n",
    "while pt.b <= len(nums)-1 and pt.a <= len(nums)-1:\n",
    "    f,s = int(nums[pt.a]), int(nums[pt.b])\n",
    "    if f+s == 2020:\n",
    "        print(pt.a,pt.b)\n",
    "        print(\"Sum:\",f+s)\n",
    "        print(\"Product:\", f*s)\n",
    "        break\n",
    "        \n",
    "    #Check if a and b are the same, else add 1\n",
    "    if pt.a == pt.b:\n",
    "        pt.b += 1\n",
    "        # print('1 added to b')\n",
    "        continue\n",
    "\n",
    "    #Check if b is at the end, else add 1 to a and reset b\n",
    "    if pt.b == len(nums) -1:\n",
    "        pt.a+=1\n",
    "        pt.b = pt.a + 1\n",
    "        # print('1 added to a')\n",
    "        # print('b reset')\n",
    "        continue\n",
    "    #Else, add one to b\n",
    "    pt.b += 1\n",
    "    # print('1 added to b')\n",
    "    continue"
   ]
  },
  {
   "cell_type": "markdown",
   "id": "efce42e1-d960-40cc-b02f-a9e1dd98f93e",
   "metadata": {},
   "source": [
    "### Part 2: Itertools for conv"
   ]
  },
  {
   "cell_type": "code",
   "execution_count": 69,
   "id": "bf9326b7-ee78-48a3-96aa-8ebdc5cfa86c",
   "metadata": {
    "tags": []
   },
   "outputs": [],
   "source": [
    "comb = list(itertools.combinations(nums,3))\n",
    "res = [i for i in comb if sum(i) == 2020][0]"
   ]
  },
  {
   "cell_type": "code",
   "execution_count": 74,
   "id": "ca7ae8c4-50b7-4f37-8840-dafdbcb1e9c6",
   "metadata": {
    "tags": []
   },
   "outputs": [
    {
     "data": {
      "text/plain": [
       "8446464"
      ]
     },
     "execution_count": 74,
     "metadata": {},
     "output_type": "execute_result"
    }
   ],
   "source": [
    "functools.reduce(operator.mul,res)"
   ]
  },
  {
   "cell_type": "markdown",
   "id": "dc43cd60-6482-44f2-b201-8ddb470148c8",
   "metadata": {},
   "source": [
    "# Day 2"
   ]
  },
  {
   "cell_type": "markdown",
   "id": "342cfca1-ab87-472c-8c92-1e3556bcd574",
   "metadata": {},
   "source": [
    "### Part 1"
   ]
  },
  {
   "cell_type": "code",
   "execution_count": 76,
   "id": "18d781e9-2198-4577-b8e1-1903e369a6f7",
   "metadata": {
    "tags": []
   },
   "outputs": [],
   "source": [
    "with open(\"./Advent_2020_Day_2.txt\") as f:\n",
    "    data = f.read().splitlines()"
   ]
  },
  {
   "cell_type": "code",
   "execution_count": 135,
   "id": "e8db6991-2db9-43a2-95ba-038093cd4902",
   "metadata": {
    "tags": []
   },
   "outputs": [],
   "source": [
    "class instruct:\n",
    "    def __init__(self,instruction: str):\n",
    "        \n",
    "        pattern = \"(\\d+)-(\\d+) (\\w): (\\w+$)\"\n",
    "        m = re.match(pattern,instruction)\n",
    "        \n",
    "        self.min = int(m.group(1))\n",
    "        self.max = int(m.group(2))\n",
    "        self.char = m.group(3)\n",
    "        self.pw = m.group(4)\n",
    "        \n",
    "    def validate_pw(self):\n",
    "        count = self.pw.count(self.char)\n",
    "        return (count>=self.min and count<=self.max)\n",
    "    \n",
    "    def validate_pw_new(self):\n",
    "        pair = str(self.pw[self.min-1]) + str(self.pw[self.max-1])\n",
    "        return pair.count(self.char) == 1"
   ]
  },
  {
   "cell_type": "code",
   "execution_count": 133,
   "id": "da0dbce0-a93a-4a7e-987b-29ae0ab908c3",
   "metadata": {
    "tags": []
   },
   "outputs": [
    {
     "data": {
      "text/plain": [
       "524"
      ]
     },
     "execution_count": 133,
     "metadata": {},
     "output_type": "execute_result"
    }
   ],
   "source": [
    "valid = sum([instruct(i).validate_pw() for i in data])\n",
    "valid"
   ]
  },
  {
   "cell_type": "markdown",
   "id": "dd6fe5f9-c0a1-44ff-90ed-6cb77661535c",
   "metadata": {},
   "source": [
    "### Part 2"
   ]
  },
  {
   "cell_type": "code",
   "execution_count": 137,
   "id": "208b31d4-9d92-49b1-9ac7-cc43d8d13bf8",
   "metadata": {
    "tags": []
   },
   "outputs": [
    {
     "data": {
      "text/plain": [
       "485"
      ]
     },
     "execution_count": 137,
     "metadata": {},
     "output_type": "execute_result"
    }
   ],
   "source": [
    "valid = sum([instruct(i).validate_pw_new() for i in data])\n",
    "valid"
   ]
  }
 ],
 "metadata": {
  "kernelspec": {
   "display_name": "Python 3 (ipykernel)",
   "language": "python",
   "name": "python3"
  },
  "language_info": {
   "codemirror_mode": {
    "name": "ipython",
    "version": 3
   },
   "file_extension": ".py",
   "mimetype": "text/x-python",
   "name": "python",
   "nbconvert_exporter": "python",
   "pygments_lexer": "ipython3",
   "version": "3.10.9"
  }
 },
 "nbformat": 4,
 "nbformat_minor": 5
}
